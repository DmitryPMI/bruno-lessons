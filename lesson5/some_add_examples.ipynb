{
 "cells": [
  {
   "cell_type": "markdown",
   "metadata": {},
   "source": [
    "# <center> Примеры с map, filter, reduce"
   ]
  },
  {
   "cell_type": "markdown",
   "metadata": {},
   "source": [
    "### Задание 1"
   ]
  },
  {
   "cell_type": "markdown",
   "metadata": {},
   "source": [
    "Задан список l, выберите из него все простые числа."
   ]
  },
  {
   "cell_type": "markdown",
   "metadata": {},
   "source": [
    "#### Напишем функцию, которая проверяет, простое ли число:"
   ]
  },
  {
   "cell_type": "code",
   "execution_count": 1,
   "metadata": {},
   "outputs": [],
   "source": [
    "def is_prime(n):\n",
    "    for i in range(2, n):\n",
    "        if n % i == 0:\n",
    "            return 0\n",
    "    return 1"
   ]
  },
  {
   "cell_type": "code",
   "execution_count": 2,
   "metadata": {},
   "outputs": [
    {
     "data": {
      "text/plain": [
       "1"
      ]
     },
     "execution_count": 2,
     "metadata": {},
     "output_type": "execute_result"
    }
   ],
   "source": [
    "is_prime(5)"
   ]
  },
  {
   "cell_type": "code",
   "execution_count": 3,
   "metadata": {},
   "outputs": [
    {
     "data": {
      "text/plain": [
       "0"
      ]
     },
     "execution_count": 3,
     "metadata": {},
     "output_type": "execute_result"
    }
   ],
   "source": [
    "is_prime(4)"
   ]
  },
  {
   "cell_type": "markdown",
   "metadata": {},
   "source": [
    "#### Применим её ко всем элементам списка l:"
   ]
  },
  {
   "cell_type": "code",
   "execution_count": 4,
   "metadata": {},
   "outputs": [],
   "source": [
    "l = [1, 3, 15, 2, 4, 6]"
   ]
  },
  {
   "cell_type": "code",
   "execution_count": 8,
   "metadata": {},
   "outputs": [
    {
     "data": {
      "text/plain": [
       "[1, 3, 2]"
      ]
     },
     "execution_count": 8,
     "metadata": {},
     "output_type": "execute_result"
    }
   ],
   "source": [
    "l1 = list(filter(is_prime, l))\n",
    "l1"
   ]
  },
  {
   "cell_type": "markdown",
   "metadata": {},
   "source": [
    "### Задание 2"
   ]
  },
  {
   "cell_type": "markdown",
   "metadata": {},
   "source": [
    "Перемножить все эти числа с помошью reduce"
   ]
  },
  {
   "cell_type": "code",
   "execution_count": 7,
   "metadata": {},
   "outputs": [],
   "source": [
    "from functools import reduce"
   ]
  },
  {
   "cell_type": "code",
   "execution_count": 10,
   "metadata": {},
   "outputs": [
    {
     "data": {
      "text/plain": [
       "6"
      ]
     },
     "execution_count": 10,
     "metadata": {},
     "output_type": "execute_result"
    }
   ],
   "source": [
    "reduce(lambda a, x: a * x, l1)"
   ]
  },
  {
   "cell_type": "markdown",
   "metadata": {},
   "source": [
    "### Задание 3"
   ]
  },
  {
   "cell_type": "markdown",
   "metadata": {},
   "source": [
    "Сгенерировать список из 100 случайных чисел:"
   ]
  },
  {
   "cell_type": "code",
   "execution_count": 13,
   "metadata": {},
   "outputs": [],
   "source": [
    "from random import randint"
   ]
  },
  {
   "cell_type": "code",
   "execution_count": 16,
   "metadata": {},
   "outputs": [],
   "source": [
    "l = [randint(1 ,100) for i in range(100)]"
   ]
  },
  {
   "cell_type": "code",
   "execution_count": 17,
   "metadata": {},
   "outputs": [
    {
     "data": {
      "text/plain": [
       "[94,\n",
       " 94,\n",
       " 95,\n",
       " 32,\n",
       " 41,\n",
       " 88,\n",
       " 2,\n",
       " 8,\n",
       " 11,\n",
       " 77,\n",
       " 44,\n",
       " 56,\n",
       " 70,\n",
       " 98,\n",
       " 43,\n",
       " 54,\n",
       " 72,\n",
       " 55,\n",
       " 25,\n",
       " 27,\n",
       " 10,\n",
       " 87,\n",
       " 54,\n",
       " 97,\n",
       " 21,\n",
       " 94,\n",
       " 73,\n",
       " 85,\n",
       " 64,\n",
       " 53,\n",
       " 45,\n",
       " 43,\n",
       " 4,\n",
       " 46,\n",
       " 36,\n",
       " 36,\n",
       " 36,\n",
       " 98,\n",
       " 83,\n",
       " 28,\n",
       " 60,\n",
       " 84,\n",
       " 60,\n",
       " 48,\n",
       " 98,\n",
       " 26,\n",
       " 59,\n",
       " 59,\n",
       " 54,\n",
       " 77,\n",
       " 44,\n",
       " 24,\n",
       " 75,\n",
       " 37,\n",
       " 36,\n",
       " 59,\n",
       " 49,\n",
       " 68,\n",
       " 46,\n",
       " 90,\n",
       " 97,\n",
       " 12,\n",
       " 30,\n",
       " 43,\n",
       " 59,\n",
       " 53,\n",
       " 90,\n",
       " 92,\n",
       " 56,\n",
       " 75,\n",
       " 90,\n",
       " 88,\n",
       " 56,\n",
       " 4,\n",
       " 30,\n",
       " 31,\n",
       " 47,\n",
       " 94,\n",
       " 25,\n",
       " 94,\n",
       " 61,\n",
       " 47,\n",
       " 81,\n",
       " 87,\n",
       " 88,\n",
       " 79,\n",
       " 57,\n",
       " 40,\n",
       " 28,\n",
       " 13,\n",
       " 19,\n",
       " 21,\n",
       " 22,\n",
       " 98,\n",
       " 13,\n",
       " 39,\n",
       " 44,\n",
       " 98,\n",
       " 34,\n",
       " 68]"
      ]
     },
     "execution_count": 17,
     "metadata": {},
     "output_type": "execute_result"
    }
   ],
   "source": [
    "l"
   ]
  },
  {
   "cell_type": "markdown",
   "metadata": {},
   "source": [
    "### Задание 4"
   ]
  },
  {
   "cell_type": "markdown",
   "metadata": {},
   "source": [
    "Сгенерировать курс доллара со случайным шумом:"
   ]
  },
  {
   "cell_type": "code",
   "execution_count": 24,
   "metadata": {},
   "outputs": [],
   "source": [
    "val = [64 + randint(-100, 100) / 100 for i in range(30)]"
   ]
  },
  {
   "cell_type": "code",
   "execution_count": 25,
   "metadata": {},
   "outputs": [
    {
     "data": {
      "text/plain": [
       "[63.14,\n",
       " 63.04,\n",
       " 64.53,\n",
       " 64.42,\n",
       " 64.57,\n",
       " 64.91,\n",
       " 64.99,\n",
       " 63.73,\n",
       " 64.73,\n",
       " 63.0,\n",
       " 63.68,\n",
       " 64.44,\n",
       " 64.19,\n",
       " 63.82,\n",
       " 64.41,\n",
       " 63.13,\n",
       " 64.56,\n",
       " 64.63,\n",
       " 63.52,\n",
       " 64.49,\n",
       " 64.06,\n",
       " 63.58,\n",
       " 63.65,\n",
       " 63.72,\n",
       " 63.87,\n",
       " 64.51,\n",
       " 63.05,\n",
       " 64.03,\n",
       " 63.65,\n",
       " 63.39]"
      ]
     },
     "execution_count": 25,
     "metadata": {},
     "output_type": "execute_result"
    }
   ],
   "source": [
    "val"
   ]
  },
  {
   "cell_type": "markdown",
   "metadata": {},
   "source": [
    "### Задание 5"
   ]
  },
  {
   "cell_type": "markdown",
   "metadata": {},
   "source": [
    "Давайте построим график"
   ]
  },
  {
   "cell_type": "code",
   "execution_count": 22,
   "metadata": {},
   "outputs": [],
   "source": [
    "import matplotlib.pyplot as plt"
   ]
  },
  {
   "cell_type": "code",
   "execution_count": 27,
   "metadata": {},
   "outputs": [
    {
     "data": {
      "image/png": "[encoded data removed]",
      "text/plain": [
       "<Figure size 432x288 with 1 Axes>"
      ]
     },
     "metadata": {
      "needs_background": "light"
     },
     "output_type": "display_data"
    }
   ],
   "source": [
    "plt.plot(val)\n",
    "plt.show()"
   ]
  },
  {
   "cell_type": "code",
   "execution_count": null,
   "metadata": {},
   "outputs": [],
   "source": []
  }
 ],
 "metadata": {
  "kernelspec": {
   "display_name": "Python 3",
   "language": "python",
   "name": "python3"
  },
  "language_info": {
   "codemirror_mode": {
    "name": "ipython",
    "version": 3
   },
   "file_extension": ".py",
   "mimetype": "text/x-python",
   "name": "python",
   "nbconvert_exporter": "python",
   "pygments_lexer": "ipython3",
   "version": "3.5.2"
  }
 },
 "nbformat": 4,
 "nbformat_minor": 2
}
